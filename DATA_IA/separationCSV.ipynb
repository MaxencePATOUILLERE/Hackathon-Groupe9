{
 "cells": [
  {
   "cell_type": "code",
   "id": "initial_id",
   "metadata": {
    "collapsed": true,
    "ExecuteTime": {
     "end_time": "2025-10-17T08:46:16.465069Z",
     "start_time": "2025-10-17T08:46:16.324752Z"
    }
   },
   "source": [
    "import pandas as pd\n",
    "df=pd.read_csv('babyfoot_dataset_clear.csv')\n",
    "\n",
    "print(df.columns)"
   ],
   "outputs": [
    {
     "name": "stdout",
     "output_type": "stream",
     "text": [
      "Index(['game_id', 'game_date', 'location', 'table_id', 'table_condition',\n",
      "       'ball_type', 'music_playing', 'referee', 'game_duration',\n",
      "       'final_score_red', 'final_score_blue', 'winner', 'attendance_count',\n",
      "       'season', 'recorded_by', 'rating_raw', 'player_id',\n",
      "       'player_canonical_name', 'player_age', 'player_role', 'player_goals',\n",
      "       'player_own_goals', 'player_assists', 'player_saves', 'possession_time',\n",
      "       'team_color', 'is_substitute'],\n",
      "      dtype='object')\n"
     ]
    }
   ],
   "execution_count": 49
  },
  {
   "metadata": {
    "ExecuteTime": {
     "end_time": "2025-10-17T08:46:16.525259Z",
     "start_time": "2025-10-17T08:46:16.472724Z"
    }
   },
   "cell_type": "code",
   "source": [
    "#player id, player name,age, email, role, dateinscription.\n",
    "import hashlib\n",
    "\n",
    "# Sélection des colonnes existantes\n",
    "dfPlayer = df[['player_id', 'player_age', 'player_canonical_name']].copy()\n",
    "\n",
    "# Ajout de la colonne email\n",
    "dfPlayer['email'] = dfPlayer['player_canonical_name'].str.replace(' ', '', regex=False) + '@exemple.com'\n",
    "\n",
    "# Ajout de la colonne role\n",
    "dfPlayer['role'] = 'utilisateur'\n",
    "\n",
    "# Ajout de la colonne date avec la date du jour (format AAAA-MM-JJ)\n",
    "dfPlayer['date_inscription'] = pd.Timestamp.today().strftime('%Y-%m-%d')\n",
    "dfPlayer['mot_de_passe']='testtest'\n",
    "def sha256_hash(password: str) -> str:\n",
    "    \"\"\"Retourne le hash hexadécimal SHA-256 du mot de passe (sans sel).\"\"\"\n",
    "    return hashlib.sha256(password.encode('utf-8')).hexdigest()\n",
    "\n",
    "dfPlayer['mot_de_passe'] = dfPlayer['mot_de_passe'].apply(sha256_hash)\n",
    "\n",
    "dfPlayer.rename(columns={'player_id': 'player_id','player_age':'age','player_canonical_name':'player_name'}, inplace=True)\n",
    "dfPlayer = dfPlayer.drop_duplicates(subset='player_id', keep='first')\n",
    "\n",
    "print(dfPlayer.head())\n",
    "\n",
    "dfPlayer.to_csv('players.csv', index=False)\n"
   ],
   "id": "fcbcf6c4cb10a84d",
   "outputs": [
    {
     "name": "stdout",
     "output_type": "stream",
     "text": [
      "  player_id  age       player_name                        email         role  \\\n",
      "0     P0382   20      Julie Moreau      JulieMoreau@exemple.com  utilisateur   \n",
      "1     P0356    0  Mohamed Philippe  MohamedPhilippe@exemple.com  utilisateur   \n",
      "2     P0267   21         Luc Rossi         LucRossi@exemple.com  utilisateur   \n",
      "3     P0208   21      Morgan Rossi      MorganRossi@exemple.com  utilisateur   \n",
      "4     P0027   26         Casey Kim         CaseyKim@exemple.com  utilisateur   \n",
      "\n",
      "  date_inscription                                       mot_de_passe  \n",
      "0       2025-10-17  37268335dd6931045bdcdf92623ff819a64244b53d0e74...  \n",
      "1       2025-10-17  37268335dd6931045bdcdf92623ff819a64244b53d0e74...  \n",
      "2       2025-10-17  37268335dd6931045bdcdf92623ff819a64244b53d0e74...  \n",
      "3       2025-10-17  37268335dd6931045bdcdf92623ff819a64244b53d0e74...  \n",
      "4       2025-10-17  37268335dd6931045bdcdf92623ff819a64244b53d0e74...  \n"
     ]
    }
   ],
   "execution_count": 50
  },
  {
   "metadata": {
    "ExecuteTime": {
     "end_time": "2025-10-17T08:46:16.548941Z",
     "start_time": "2025-10-17T08:46:16.537124Z"
    }
   },
   "cell_type": "code",
   "source": [
    "#table_id, nom, location, condition_state\n",
    "\n",
    "dfTable = df[['table_id', 'table_condition']].copy()\n",
    "\n",
    "dfTable['nom']= 'Babyfoot de '+ df['location']\n",
    "\n",
    "dfTable = dfTable.drop_duplicates(subset='table_id', keep='first')\n",
    "dfTable['statuts']='available'\n",
    "\n",
    "print(dfTable.head())\n",
    "\n",
    "dfTable.to_csv('babyfoots.csv', index=False)"
   ],
   "id": "52d3de04ff69f3fb",
   "outputs": [
    {
     "name": "stdout",
     "output_type": "stream",
     "text": [
      "  table_id table_condition                            nom    statuts\n",
      "0      T05     beer stains      Babyfoot de Ynov Toulouse  available\n",
      "1      T07            worn          Babyfoot de Cafeteria  available\n",
      "2      T26       scratched           Babyfoot de Gym Hall  available\n",
      "3      T21            worn  Babyfoot de Salle Polyvalente  available\n",
      "6      T24       scratched      Babyfoot de Ynov Toulouse  available\n"
     ]
    }
   ],
   "execution_count": 51
  },
  {
   "metadata": {
    "ExecuteTime": {
     "end_time": "2025-10-17T08:46:16.614538Z",
     "start_time": "2025-10-17T08:46:16.556929Z"
    }
   },
   "cell_type": "code",
   "source": [
    "#game_id, table_id, game_date, duration_seconds, score_red, score_blue, winner_team, location,season, ball_type, music, referent, attendance, recorded_by,rating.\n",
    "\n",
    "dfGames= df[['game_id','table_id','game_date','game_duration','final_score_red','final_score_blue','winner','location','season','ball_type','music_playing','attendance_count','recorded_by','rating_raw','referee']]\n",
    "\n",
    "dfGames.rename(columns={'game_duration':'duration_seconds','final_score_red':'score_red','final_score_blue':'score_blue','music_playing':'music','attendance_count':'attendance','rating_raw':'rating','referee':'referent'},inplace=True)\n",
    "\n",
    "dfGames= dfGames.drop_duplicates(subset='game_id', keep='first')\n",
    "\n",
    "print(dfGames.head())\n",
    "\n",
    "dfGames.to_csv('games.csv', index=False)"
   ],
   "id": "db218507704ea55c",
   "outputs": [
    {
     "name": "stdout",
     "output_type": "stream",
     "text": [
      "   game_id table_id   game_date  duration_seconds  score_red  score_blue  \\\n",
      "0  G015295      T05  06/02/2023               765          0           4   \n",
      "1  G023800      T07  24/03/2023               537         10           7   \n",
      "2  G023577      T26  13/01/2025              1022          2           6   \n",
      "3  G020644      T21  11/11/2025               318          6           9   \n",
      "4  G011677      T26  30/09/2023               360          3          10   \n",
      "\n",
      "  winner           location     season     ball_type  \\\n",
      "0   blue      Ynov Toulouse  2023/2024           NaN   \n",
      "1    red          Cafeteria  2024/2025           NaN   \n",
      "2   blue           Gym Hall  2024/2025           NaN   \n",
      "3   blue  Salle Polyvalente  2024/2025     mini ball   \n",
      "4   blue          Cafeteria  2024/2025  trainer ball   \n",
      "\n",
      "                               music  attendance   recorded_by  rating  \\\n",
      "0  Spotify: Queen - We Will Rock You         8.0        camera       2   \n",
      "1                     Indie playlist         5.0         admin       3   \n",
      "2  Spotify: Queen - We Will Rock You         3.0   Discord Bot       5   \n",
      "3                            EDM mix         4.0  player phone       5   \n",
      "4                         Oldies 80s         2.0         GoPro       1   \n",
      "\n",
      "          referent  \n",
      "0         Paul Kim  \n",
      "1              NaN  \n",
      "2     Lena Clement  \n",
      "3  Isabella Girard  \n",
      "4              yes  \n"
     ]
    },
    {
     "name": "stderr",
     "output_type": "stream",
     "text": [
      "/var/folders/f4/5gyrd33x1pz_mbph3rmmk_1w0000gn/T/ipykernel_86998/502820606.py:5: SettingWithCopyWarning: \n",
      "A value is trying to be set on a copy of a slice from a DataFrame\n",
      "\n",
      "See the caveats in the documentation: https://pandas.pydata.org/pandas-docs/stable/user_guide/indexing.html#returning-a-view-versus-a-copy\n",
      "  dfGames.rename(columns={'game_duration':'duration_seconds','final_score_red':'score_red','final_score_blue':'score_blue','music_playing':'music','attendance_count':'attendance','rating_raw':'rating','referee':'referent'},inplace=True)\n"
     ]
    }
   ],
   "execution_count": 52
  },
  {
   "metadata": {
    "ExecuteTime": {
     "end_time": "2025-10-17T08:46:16.752591Z",
     "start_time": "2025-10-17T08:46:16.622108Z"
    }
   },
   "cell_type": "code",
   "source": [
    "#game_id, player_id,team_color,'role','is_substitute','goals','own_goals'','assist','save','possession_time'\n",
    "\n",
    "dfPerformances=df[['game_id','player_id','team_color','player_role','is_substitute','player_goals','player_own_goals','player_assists','player_saves','possession_time','game_date']]\n",
    "\n",
    "dfPerformances.rename(columns={\n",
    "    'player_role': 'role',\n",
    "    'player_goals': 'goals',\n",
    "    'player_own_goals': 'own_goals',\n",
    "    'player_assists': 'assist',\n",
    "    'player_save': 'save',\n",
    "    'game_date':'created_at'\n",
    "}, inplace=True)\n",
    "\n",
    "dfPerformances = dfPerformances.drop_duplicates(subset=['game_id', 'player_id'], keep='first')\n",
    "\n",
    "print(dfPerformances.head())\n",
    "\n",
    "dfPerformances.to_csv('performances.csv', index=False)\n"
   ],
   "id": "ddb5e17ccb9ae977",
   "outputs": [
    {
     "name": "stdout",
     "output_type": "stream",
     "text": [
      "   game_id player_id team_color role is_substitute  goals  own_goals  assist  \\\n",
      "0  G015295     P0382        red  def           yes      0          0       4   \n",
      "1  G023800     P0356       blue  def           yes      0          0       2   \n",
      "2  G023577     P0267        red  atk            no      2          0       1   \n",
      "3  G020644     P0208       blue  def         maybe      0          0       5   \n",
      "4  G011677     P0027        red  atk           yes      0          0       5   \n",
      "\n",
      "   player_saves  possession_time  created_at  \n",
      "0             3            576.0  06/02/2023  \n",
      "1             2              NaN  24/03/2023  \n",
      "2             1            305.0  13/01/2025  \n",
      "3             1              NaN  11/11/2025  \n",
      "4             8            177.0  30/09/2023  \n"
     ]
    },
    {
     "name": "stderr",
     "output_type": "stream",
     "text": [
      "/var/folders/f4/5gyrd33x1pz_mbph3rmmk_1w0000gn/T/ipykernel_86998/3736415984.py:5: SettingWithCopyWarning: \n",
      "A value is trying to be set on a copy of a slice from a DataFrame\n",
      "\n",
      "See the caveats in the documentation: https://pandas.pydata.org/pandas-docs/stable/user_guide/indexing.html#returning-a-view-versus-a-copy\n",
      "  dfPerformances.rename(columns={\n"
     ]
    }
   ],
   "execution_count": 53
  },
  {
   "metadata": {
    "ExecuteTime": {
     "end_time": "2025-10-17T08:46:16.762988Z",
     "start_time": "2025-10-17T08:46:16.761590Z"
    }
   },
   "cell_type": "code",
   "source": "",
   "id": "58e8737ae8a53ae1",
   "outputs": [],
   "execution_count": null
  }
 ],
 "metadata": {
  "kernelspec": {
   "display_name": "Python 3",
   "language": "python",
   "name": "python3"
  },
  "language_info": {
   "codemirror_mode": {
    "name": "ipython",
    "version": 2
   },
   "file_extension": ".py",
   "mimetype": "text/x-python",
   "name": "python",
   "nbconvert_exporter": "python",
   "pygments_lexer": "ipython2",
   "version": "2.7.6"
  }
 },
 "nbformat": 4,
 "nbformat_minor": 5
}
